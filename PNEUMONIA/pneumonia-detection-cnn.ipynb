{
 "cells": [
  {
   "cell_type": "code",
   "execution_count": 1,
   "id": "e467a063",
   "metadata": {
    "_cell_guid": "b1076dfc-b9ad-4769-8c92-a6c4dae69d19",
    "_uuid": "8f2839f25d086af736a60e9eeb907d3b93b6e0e5",
    "execution": {
     "iopub.execute_input": "2023-11-09T17:50:57.036687Z",
     "iopub.status.busy": "2023-11-09T17:50:57.035339Z",
     "iopub.status.idle": "2023-11-09T17:51:11.265394Z",
     "shell.execute_reply": "2023-11-09T17:51:11.263900Z"
    },
    "papermill": {
     "duration": 14.239484,
     "end_time": "2023-11-09T17:51:11.268368",
     "exception": false,
     "start_time": "2023-11-09T17:50:57.028884",
     "status": "completed"
    },
    "tags": []
   },
   "outputs": [],
   "source": [
    "# This Python 3 environment comes with many helpful analytics libraries installed\n",
    "# It is defined by the kaggle/python Docker image: https://github.com/kaggle/docker-python\n",
    "# For example, here's several helpful packages to load\n",
    "\n",
    "import numpy as np # linear algebra\n",
    "import pandas as pd # data processing, CSV file I/O (e.g. pd.read_csv)\n",
    "\n",
    "# Input data files are available in the read-only \"../input/\" directory\n",
    "# For example, running this (by clicking run or pressing Shift+Enter) will list all files under the input directory\n",
    "\n",
    "import os\n",
    "\n",
    "\n",
    "# You can write up to 20GB to the current directory (/kaggle/working/) that gets preserved as output when you create a version using \"Save & Run All\" \n",
    "# You can also write temporary files to /kaggle/temp/, but they won't be saved outside of the current session\n",
    "#Dependencies\n",
    "import os\n",
    "import matplotlib.pyplot as plt\n",
    "import seaborn as sns\n",
    "\n",
    "import tensorflow as tf\n",
    "from tensorflow.keras.preprocessing.image import ImageDataGenerator\n",
    "from tensorflow.keras.models import Sequential\n",
    "from tensorflow.keras.layers import Conv2D, MaxPooling2D, Flatten, Dense, Dropout\n",
    "from tensorflow.keras.optimizers import Adam\n",
    "from sklearn.metrics import classification_report, confusion_matrix"
   ]
  },
  {
   "cell_type": "code",
   "execution_count": 2,
   "id": "adca9843",
   "metadata": {
    "execution": {
     "iopub.execute_input": "2023-11-09T17:51:11.282052Z",
     "iopub.status.busy": "2023-11-09T17:51:11.280331Z",
     "iopub.status.idle": "2023-11-09T17:51:11.286986Z",
     "shell.execute_reply": "2023-11-09T17:51:11.285604Z"
    },
    "papermill": {
     "duration": 0.014727,
     "end_time": "2023-11-09T17:51:11.289598",
     "exception": false,
     "start_time": "2023-11-09T17:51:11.274871",
     "status": "completed"
    },
    "tags": []
   },
   "outputs": [],
   "source": [
    "IMG_WIDTH, IMG_HEIGHT = 150, 150\n",
    "BATCH_SIZE = 32\n"
   ]
  },
  {
   "cell_type": "code",
   "execution_count": 3,
   "id": "aec7a720",
   "metadata": {
    "execution": {
     "iopub.execute_input": "2023-11-09T17:51:11.299273Z",
     "iopub.status.busy": "2023-11-09T17:51:11.298781Z",
     "iopub.status.idle": "2023-11-09T17:51:12.932028Z",
     "shell.execute_reply": "2023-11-09T17:51:12.929510Z"
    },
    "papermill": {
     "duration": 1.642075,
     "end_time": "2023-11-09T17:51:12.935538",
     "exception": false,
     "start_time": "2023-11-09T17:51:11.293463",
     "status": "completed"
    },
    "tags": []
   },
   "outputs": [],
   "source": [
    "train_dir = \"/kaggle/input/chest-xray-pneumonia/chest_xray/train\"\n",
    "train_normal = len(os.listdir(os.path.join(train_dir, \"NORMAL\")))\n",
    "train_pneumonia = len(os.listdir(os.path.join(train_dir, \"PNEUMONIA\")))\n",
    "\n",
    "test_dir = \"/kaggle/input/chest-xray-pneumonia/chest_xray/test/\"\n",
    "test_normal = len(os.listdir(os.path.join(test_dir, \"NORMAL\")))\n",
    "test_pneumonia = len(os.listdir(os.path.join(test_dir, \"PNEUMONIA\")))\n",
    "\n",
    "val_dir = \"/kaggle/input/chest-xray-pneumonia/chest_xray/val\"\n",
    "val_normal = len(os.listdir(os.path.join(val_dir, \"NORMAL\")))\n",
    "val_pneumonia = len(os.listdir(os.path.join(val_dir, \"PNEUMONIA\")))"
   ]
  },
  {
   "cell_type": "code",
   "execution_count": 4,
   "id": "d5857bf9",
   "metadata": {
    "execution": {
     "iopub.execute_input": "2023-11-09T17:51:12.946381Z",
     "iopub.status.busy": "2023-11-09T17:51:12.945135Z",
     "iopub.status.idle": "2023-11-09T17:51:12.953699Z",
     "shell.execute_reply": "2023-11-09T17:51:12.952339Z"
    },
    "papermill": {
     "duration": 0.016941,
     "end_time": "2023-11-09T17:51:12.956494",
     "exception": false,
     "start_time": "2023-11-09T17:51:12.939553",
     "status": "completed"
    },
    "tags": []
   },
   "outputs": [],
   "source": [
    "# Data Augmentation\n",
    "\n",
    "train_datagen = ImageDataGenerator(\n",
    "    rescale=1.0/255.0,\n",
    "    rotation_range=30,\n",
    "    width_shift_range=0.2,\n",
    "    height_shift_range=0.2,\n",
    "    shear_range=0.2,\n",
    "    zoom_range=0.2,\n",
    "    horizontal_flip=True,\n",
    "    fill_mode='nearest'\n",
    ")\n",
    "\n",
    "val_test_datagen = ImageDataGenerator(rescale=1.0/255.0)"
   ]
  },
  {
   "cell_type": "code",
   "execution_count": 5,
   "id": "587d8ee3",
   "metadata": {
    "execution": {
     "iopub.execute_input": "2023-11-09T17:51:12.967202Z",
     "iopub.status.busy": "2023-11-09T17:51:12.966276Z",
     "iopub.status.idle": "2023-11-09T17:51:17.346659Z",
     "shell.execute_reply": "2023-11-09T17:51:17.345271Z"
    },
    "papermill": {
     "duration": 4.389306,
     "end_time": "2023-11-09T17:51:17.349818",
     "exception": false,
     "start_time": "2023-11-09T17:51:12.960512",
     "status": "completed"
    },
    "tags": []
   },
   "outputs": [
    {
     "name": "stdout",
     "output_type": "stream",
     "text": [
      "Found 5216 images belonging to 2 classes.\n",
      "Found 16 images belonging to 2 classes.\n",
      "Found 624 images belonging to 2 classes.\n"
     ]
    }
   ],
   "source": [
    "train_generator = train_datagen.flow_from_directory(\n",
    "    train_dir,\n",
    "    target_size=(IMG_WIDTH, IMG_HEIGHT),\n",
    "    batch_size=BATCH_SIZE,\n",
    "    class_mode='binary'\n",
    ")\n",
    "\n",
    "validation_generator = val_test_datagen.flow_from_directory(\n",
    "    val_dir,\n",
    "    target_size=(IMG_WIDTH, IMG_HEIGHT),\n",
    "    batch_size=BATCH_SIZE,\n",
    "    class_mode='binary'\n",
    ")\n",
    "\n",
    "test_generator = val_test_datagen.flow_from_directory(\n",
    "    test_dir,\n",
    "    target_size=(IMG_WIDTH, IMG_HEIGHT),\n",
    "    batch_size=BATCH_SIZE,\n",
    "    class_mode='binary'\n",
    ")"
   ]
  },
  {
   "cell_type": "code",
   "execution_count": 6,
   "id": "c0414186",
   "metadata": {
    "execution": {
     "iopub.execute_input": "2023-11-09T17:51:17.361122Z",
     "iopub.status.busy": "2023-11-09T17:51:17.359862Z",
     "iopub.status.idle": "2023-11-09T18:23:55.882266Z",
     "shell.execute_reply": "2023-11-09T18:23:55.880884Z"
    },
    "papermill": {
     "duration": 1958.531297,
     "end_time": "2023-11-09T18:23:55.885424",
     "exception": false,
     "start_time": "2023-11-09T17:51:17.354127",
     "status": "completed"
    },
    "tags": []
   },
   "outputs": [
    {
     "name": "stdout",
     "output_type": "stream",
     "text": [
      "Epoch 1/10\n",
      "163/163 [==============================] - 231s 1s/step - loss: 0.5336 - accuracy: 0.7452\n",
      "Epoch 2/10\n",
      "163/163 [==============================] - 186s 1s/step - loss: 0.4015 - accuracy: 0.7899\n",
      "Epoch 3/10\n",
      "163/163 [==============================] - 186s 1s/step - loss: 0.3478 - accuracy: 0.8367\n",
      "Epoch 4/10\n",
      "163/163 [==============================] - 182s 1s/step - loss: 0.2930 - accuracy: 0.8681\n",
      "Epoch 5/10\n",
      "163/163 [==============================] - 183s 1s/step - loss: 0.2913 - accuracy: 0.8771\n",
      "Epoch 6/10\n",
      "163/163 [==============================] - 187s 1s/step - loss: 0.2736 - accuracy: 0.8844\n",
      "Epoch 7/10\n",
      "163/163 [==============================] - 186s 1s/step - loss: 0.2576 - accuracy: 0.8932\n",
      "Epoch 8/10\n",
      "163/163 [==============================] - 183s 1s/step - loss: 0.2373 - accuracy: 0.9024\n",
      "Epoch 9/10\n",
      "163/163 [==============================] - 179s 1s/step - loss: 0.2452 - accuracy: 0.8974\n",
      "Epoch 10/10\n",
      "163/163 [==============================] - 180s 1s/step - loss: 0.2215 - accuracy: 0.9116\n"
     ]
    }
   ],
   "source": [
    "# Model\n",
    "model = Sequential()\n",
    "\n",
    "model.add(Conv2D(32, (3, 3), activation='relu', input_shape=(IMG_WIDTH, IMG_HEIGHT, 3)))\n",
    "model.add(MaxPooling2D((2, 2)))\n",
    "\n",
    "model.add(Conv2D(64, (3, 3), activation='relu'))\n",
    "model.add(MaxPooling2D((2, 2)))\n",
    "\n",
    "model.add(Conv2D(128, (3, 3), activation='relu'))\n",
    "model.add(MaxPooling2D((2, 2)))\n",
    "\n",
    "model.add(Flatten())\n",
    "\n",
    "model.add(Dense(128, activation='relu'))\n",
    "model.add(Dropout(0.5))\n",
    "\n",
    "model.add(Dense(1, activation='sigmoid'))\n",
    "\n",
    "model.compile(loss='binary_crossentropy', optimizer=Adam(learning_rate=0.001), metrics=['accuracy'])\n",
    "\n",
    "history = model.fit(\n",
    "    train_generator,\n",
    "    steps_per_epoch=train_generator.samples // BATCH_SIZE,\n",
    "    epochs=10,\n",
    "    validation_data=validation_generator,\n",
    "    validation_steps=validation_generator.samples // BATCH_SIZE\n",
    ")"
   ]
  },
  {
   "cell_type": "code",
   "execution_count": 7,
   "id": "376c2846",
   "metadata": {
    "execution": {
     "iopub.execute_input": "2023-11-09T18:23:56.199753Z",
     "iopub.status.busy": "2023-11-09T18:23:56.198888Z",
     "iopub.status.idle": "2023-11-09T18:24:19.982534Z",
     "shell.execute_reply": "2023-11-09T18:24:19.980844Z"
    },
    "papermill": {
     "duration": 23.9447,
     "end_time": "2023-11-09T18:24:19.986957",
     "exception": false,
     "start_time": "2023-11-09T18:23:56.042257",
     "status": "completed"
    },
    "tags": []
   },
   "outputs": [
    {
     "name": "stdout",
     "output_type": "stream",
     "text": [
      "19/19 [==============================] - 13s 673ms/step - loss: 0.3742 - accuracy: 0.8503\n",
      "Test Loss: 0.3742145895957947\n",
      "Test Accuracy: 0.8503289222717285\n",
      "20/20 [==============================] - 10s 467ms/step\n",
      "              precision    recall  f1-score   support\n",
      "\n",
      "      Normal       0.39      0.27      0.32       234\n",
      "   Pneumonia       0.63      0.74      0.68       390\n",
      "\n",
      "    accuracy                           0.57       624\n",
      "   macro avg       0.51      0.51      0.50       624\n",
      "weighted avg       0.54      0.57      0.55       624\n",
      "\n"
     ]
    },
    {
     "data": {
      "image/png": "[encoded data removed]",
      "text/plain": [
       "<Figure size 600x600 with 1 Axes>"
      ]
     },
     "metadata": {},
     "output_type": "display_data"
    }
   ],
   "source": [
    "# Results\n",
    "test_results = model.evaluate(test_generator, steps=test_generator.samples // BATCH_SIZE)\n",
    "print(\"Test Loss:\", test_results[0])\n",
    "print(\"Test Accuracy:\", test_results[1])\n",
    "\n",
    "predictions = model.predict(test_generator)\n",
    "y_pred = (predictions > 0.5).astype(int)\n",
    "\n",
    "print(classification_report(test_generator.classes, y_pred, target_names=[\"Normal\", \"Pneumonia\"]))\n",
    "confusion_mtx = confusion_matrix(test_generator.classes, y_pred)\n",
    "\n",
    "plt.figure(figsize=(6, 6))\n",
    "sns.heatmap(confusion_mtx, annot=True, fmt='d', cmap='Blues', cbar=False, square=True, xticklabels=[\"Normal\", \"Pneumonia\"], yticklabels=[\"Normal\", \"Pneumonia\"])\n",
    "plt.xlabel('Predicted')\n",
    "plt.ylabel('True')\n",
    "plt.title('Confusion Matrix')\n",
    "plt.show()\n"
   ]
  },
  {
   "cell_type": "code",
   "execution_count": null,
   "id": "04cae9d6",
   "metadata": {
    "papermill": {
     "duration": 0.158971,
     "end_time": "2023-11-09T18:24:20.403540",
     "exception": false,
     "start_time": "2023-11-09T18:24:20.244569",
     "status": "completed"
    },
    "tags": []
   },
   "outputs": [],
   "source": []
  }
 ],
 "metadata": {
  "kernelspec": {
   "display_name": "Python 3",
   "language": "python",
   "name": "python3"
  },
  "language_info": {
   "codemirror_mode": {
    "name": "ipython",
    "version": 3
   },
   "file_extension": ".py",
   "mimetype": "text/x-python",
   "name": "python",
   "nbconvert_exporter": "python",
   "pygments_lexer": "ipython3",
   "version": "3.10.12"
  },
  "papermill": {
   "default_parameters": {},
   "duration": 2010.102417,
   "end_time": "2023-11-09T18:24:23.063034",
   "environment_variables": {},
   "exception": null,
   "input_path": "__notebook__.ipynb",
   "output_path": "__notebook__.ipynb",
   "parameters": {},
   "start_time": "2023-11-09T17:50:52.960617",
   "version": "2.4.0"
  }
 },
 "nbformat": 4,
 "nbformat_minor": 5
}
